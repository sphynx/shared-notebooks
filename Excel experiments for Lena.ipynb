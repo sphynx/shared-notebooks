{
 "cells": [
  {
   "cell_type": "code",
   "execution_count": 2,
   "metadata": {},
   "outputs": [],
   "source": [
    "import xlrd\n",
    "import pandas as pd"
   ]
  },
  {
   "cell_type": "code",
   "execution_count": 87,
   "metadata": {},
   "outputs": [],
   "source": [
    "df = pd.read_excel(\"/Users/sphynx/Code/Learning_Python/Example.xlsx\")"
   ]
  },
  {
   "cell_type": "code",
   "execution_count": 88,
   "metadata": {},
   "outputs": [
    {
     "data": {
      "text/html": [
       "<div>\n",
       "<style scoped>\n",
       "    .dataframe tbody tr th:only-of-type {\n",
       "        vertical-align: middle;\n",
       "    }\n",
       "\n",
       "    .dataframe tbody tr th {\n",
       "        vertical-align: top;\n",
       "    }\n",
       "\n",
       "    .dataframe thead th {\n",
       "        text-align: right;\n",
       "    }\n",
       "</style>\n",
       "<table border=\"1\" class=\"dataframe\">\n",
       "  <thead>\n",
       "    <tr style=\"text-align: right;\">\n",
       "      <th></th>\n",
       "      <th>runDate</th>\n",
       "      <th>dontNeed</th>\n",
       "      <th>captureDuration</th>\n",
       "    </tr>\n",
       "  </thead>\n",
       "  <tbody>\n",
       "    <tr>\n",
       "      <th>0</th>\n",
       "      <td>NaN</td>\n",
       "      <td>NaN</td>\n",
       "      <td>NaN</td>\n",
       "    </tr>\n",
       "    <tr>\n",
       "      <th>1</th>\n",
       "      <td>2019-11-23 00:00:00.000</td>\n",
       "      <td>2019-11-23 00:00:00.000</td>\n",
       "      <td>2019-11-23 02:15:50.600</td>\n",
       "    </tr>\n",
       "    <tr>\n",
       "      <th>2</th>\n",
       "      <td>2019-11-22 00:00:00.000</td>\n",
       "      <td>2019-11-22 00:00:00.000</td>\n",
       "      <td>2019-11-22 04:20:09.080</td>\n",
       "    </tr>\n",
       "    <tr>\n",
       "      <th>3</th>\n",
       "      <td>2019-11-21 00:00:00.000</td>\n",
       "      <td>2019-11-21 00:00:00.000</td>\n",
       "      <td>2019-11-21 03:10:50.700</td>\n",
       "    </tr>\n",
       "    <tr>\n",
       "      <th>4</th>\n",
       "      <td>2019-11-20 00:00:00.000</td>\n",
       "      <td>2019-11-20 00:00:00.000</td>\n",
       "      <td>2019-11-20 01:01:50.003</td>\n",
       "    </tr>\n",
       "  </tbody>\n",
       "</table>\n",
       "</div>"
      ],
      "text/plain": [
       "                   runDate                 dontNeed          captureDuration\n",
       "0                      NaN                      NaN                      NaN\n",
       "1  2019-11-23 00:00:00.000  2019-11-23 00:00:00.000  2019-11-23 02:15:50.600\n",
       "2  2019-11-22 00:00:00.000  2019-11-22 00:00:00.000  2019-11-22 04:20:09.080\n",
       "3  2019-11-21 00:00:00.000  2019-11-21 00:00:00.000  2019-11-21 03:10:50.700\n",
       "4  2019-11-20 00:00:00.000  2019-11-20 00:00:00.000  2019-11-20 01:01:50.003"
      ]
     },
     "execution_count": 88,
     "metadata": {},
     "output_type": "execute_result"
    }
   ],
   "source": [
    "df.head()"
   ]
  },
  {
   "cell_type": "code",
   "execution_count": 89,
   "metadata": {},
   "outputs": [],
   "source": [
    "df = df.dropna(how='all') # note that we reassign here to df again\n",
    "\n",
    "# or you can use the following to modify `df` in place: \n",
    "# df.dropna(how='all', inplace=True)"
   ]
  },
  {
   "cell_type": "code",
   "execution_count": 90,
   "metadata": {},
   "outputs": [
    {
     "data": {
      "text/html": [
       "<div>\n",
       "<style scoped>\n",
       "    .dataframe tbody tr th:only-of-type {\n",
       "        vertical-align: middle;\n",
       "    }\n",
       "\n",
       "    .dataframe tbody tr th {\n",
       "        vertical-align: top;\n",
       "    }\n",
       "\n",
       "    .dataframe thead th {\n",
       "        text-align: right;\n",
       "    }\n",
       "</style>\n",
       "<table border=\"1\" class=\"dataframe\">\n",
       "  <thead>\n",
       "    <tr style=\"text-align: right;\">\n",
       "      <th></th>\n",
       "      <th>runDate</th>\n",
       "      <th>dontNeed</th>\n",
       "      <th>captureDuration</th>\n",
       "    </tr>\n",
       "  </thead>\n",
       "  <tbody>\n",
       "    <tr>\n",
       "      <th>1</th>\n",
       "      <td>2019-11-23 00:00:00.000</td>\n",
       "      <td>2019-11-23 00:00:00.000</td>\n",
       "      <td>2019-11-23 02:15:50.600</td>\n",
       "    </tr>\n",
       "    <tr>\n",
       "      <th>2</th>\n",
       "      <td>2019-11-22 00:00:00.000</td>\n",
       "      <td>2019-11-22 00:00:00.000</td>\n",
       "      <td>2019-11-22 04:20:09.080</td>\n",
       "    </tr>\n",
       "    <tr>\n",
       "      <th>3</th>\n",
       "      <td>2019-11-21 00:00:00.000</td>\n",
       "      <td>2019-11-21 00:00:00.000</td>\n",
       "      <td>2019-11-21 03:10:50.700</td>\n",
       "    </tr>\n",
       "    <tr>\n",
       "      <th>4</th>\n",
       "      <td>2019-11-20 00:00:00.000</td>\n",
       "      <td>2019-11-20 00:00:00.000</td>\n",
       "      <td>2019-11-20 01:01:50.003</td>\n",
       "    </tr>\n",
       "  </tbody>\n",
       "</table>\n",
       "</div>"
      ],
      "text/plain": [
       "                   runDate                 dontNeed          captureDuration\n",
       "1  2019-11-23 00:00:00.000  2019-11-23 00:00:00.000  2019-11-23 02:15:50.600\n",
       "2  2019-11-22 00:00:00.000  2019-11-22 00:00:00.000  2019-11-22 04:20:09.080\n",
       "3  2019-11-21 00:00:00.000  2019-11-21 00:00:00.000  2019-11-21 03:10:50.700\n",
       "4  2019-11-20 00:00:00.000  2019-11-20 00:00:00.000  2019-11-20 01:01:50.003"
      ]
     },
     "execution_count": 90,
     "metadata": {},
     "output_type": "execute_result"
    }
   ],
   "source": [
    "# Now let's check if it's dropped:\n",
    "df"
   ]
  },
  {
   "cell_type": "markdown",
   "metadata": {},
   "source": [
    "Good!"
   ]
  },
  {
   "cell_type": "code",
   "execution_count": 91,
   "metadata": {},
   "outputs": [],
   "source": [
    "df.drop('dontNeed', axis=1, inplace=True)"
   ]
  },
  {
   "cell_type": "code",
   "execution_count": 92,
   "metadata": {},
   "outputs": [
    {
     "data": {
      "text/html": [
       "<div>\n",
       "<style scoped>\n",
       "    .dataframe tbody tr th:only-of-type {\n",
       "        vertical-align: middle;\n",
       "    }\n",
       "\n",
       "    .dataframe tbody tr th {\n",
       "        vertical-align: top;\n",
       "    }\n",
       "\n",
       "    .dataframe thead th {\n",
       "        text-align: right;\n",
       "    }\n",
       "</style>\n",
       "<table border=\"1\" class=\"dataframe\">\n",
       "  <thead>\n",
       "    <tr style=\"text-align: right;\">\n",
       "      <th></th>\n",
       "      <th>runDate</th>\n",
       "      <th>captureDuration</th>\n",
       "    </tr>\n",
       "  </thead>\n",
       "  <tbody>\n",
       "    <tr>\n",
       "      <th>1</th>\n",
       "      <td>2019-11-23 00:00:00.000</td>\n",
       "      <td>2019-11-23 02:15:50.600</td>\n",
       "    </tr>\n",
       "    <tr>\n",
       "      <th>2</th>\n",
       "      <td>2019-11-22 00:00:00.000</td>\n",
       "      <td>2019-11-22 04:20:09.080</td>\n",
       "    </tr>\n",
       "    <tr>\n",
       "      <th>3</th>\n",
       "      <td>2019-11-21 00:00:00.000</td>\n",
       "      <td>2019-11-21 03:10:50.700</td>\n",
       "    </tr>\n",
       "    <tr>\n",
       "      <th>4</th>\n",
       "      <td>2019-11-20 00:00:00.000</td>\n",
       "      <td>2019-11-20 01:01:50.003</td>\n",
       "    </tr>\n",
       "  </tbody>\n",
       "</table>\n",
       "</div>"
      ],
      "text/plain": [
       "                   runDate          captureDuration\n",
       "1  2019-11-23 00:00:00.000  2019-11-23 02:15:50.600\n",
       "2  2019-11-22 00:00:00.000  2019-11-22 04:20:09.080\n",
       "3  2019-11-21 00:00:00.000  2019-11-21 03:10:50.700\n",
       "4  2019-11-20 00:00:00.000  2019-11-20 01:01:50.003"
      ]
     },
     "execution_count": 92,
     "metadata": {},
     "output_type": "execute_result"
    }
   ],
   "source": [
    "df"
   ]
  },
  {
   "cell_type": "code",
   "execution_count": 93,
   "metadata": {},
   "outputs": [
    {
     "data": {
      "text/plain": [
       "str"
      ]
     },
     "execution_count": 93,
     "metadata": {},
     "output_type": "execute_result"
    }
   ],
   "source": [
    "# let's look what is the type of those columns:\n",
    "type(df.runDate.iloc[0])"
   ]
  },
  {
   "cell_type": "code",
   "execution_count": 94,
   "metadata": {},
   "outputs": [],
   "source": [
    "# they are just strings, hm, I'd like them to be Pandas date/times\n",
    "# (because then we can use some nice functions on dates and times).\n",
    "\n",
    "# I think that is a fault of read_excel function, it should handled it better.\n",
    "# Let's look at its documentation\n",
    "\n",
    "# ... <googles for \"pandas read_excel\">\n",
    "\n",
    "# Here we go:\n",
    "# https://pandas.pydata.org/pandas-docs/stable/reference/api/pandas.read_excel.html"
   ]
  },
  {
   "cell_type": "code",
   "execution_count": 95,
   "metadata": {},
   "outputs": [],
   "source": [
    "# It has a bunch of parameters! Including skipping rows/columns/etc.\n",
    "# Also, it has `parse_dates` parameter which seems to be what I want, cool! \n",
    "# Let's try all this stuff and reload the data again:"
   ]
  },
  {
   "cell_type": "code",
   "execution_count": 99,
   "metadata": {},
   "outputs": [],
   "source": [
    "df = pd.read_excel(\"/Users/sphynx/Code/Learning_Python/Example.xlsx\", parse_dates=True, index_col=None)\n",
    "# I pass index_col as well, because for some reason using parse_dates requires it"
   ]
  },
  {
   "cell_type": "code",
   "execution_count": 100,
   "metadata": {},
   "outputs": [
    {
     "data": {
      "text/html": [
       "<div>\n",
       "<style scoped>\n",
       "    .dataframe tbody tr th:only-of-type {\n",
       "        vertical-align: middle;\n",
       "    }\n",
       "\n",
       "    .dataframe tbody tr th {\n",
       "        vertical-align: top;\n",
       "    }\n",
       "\n",
       "    .dataframe thead th {\n",
       "        text-align: right;\n",
       "    }\n",
       "</style>\n",
       "<table border=\"1\" class=\"dataframe\">\n",
       "  <thead>\n",
       "    <tr style=\"text-align: right;\">\n",
       "      <th></th>\n",
       "      <th>runDate</th>\n",
       "      <th>dontNeed</th>\n",
       "      <th>captureDuration</th>\n",
       "    </tr>\n",
       "  </thead>\n",
       "  <tbody>\n",
       "    <tr>\n",
       "      <th>0</th>\n",
       "      <td>NaN</td>\n",
       "      <td>NaN</td>\n",
       "      <td>NaN</td>\n",
       "    </tr>\n",
       "    <tr>\n",
       "      <th>1</th>\n",
       "      <td>2019-11-23 00:00:00.000</td>\n",
       "      <td>2019-11-23 00:00:00.000</td>\n",
       "      <td>2019-11-23 02:15:50.600</td>\n",
       "    </tr>\n",
       "    <tr>\n",
       "      <th>2</th>\n",
       "      <td>2019-11-22 00:00:00.000</td>\n",
       "      <td>2019-11-22 00:00:00.000</td>\n",
       "      <td>2019-11-22 04:20:09.080</td>\n",
       "    </tr>\n",
       "    <tr>\n",
       "      <th>3</th>\n",
       "      <td>2019-11-21 00:00:00.000</td>\n",
       "      <td>2019-11-21 00:00:00.000</td>\n",
       "      <td>2019-11-21 03:10:50.700</td>\n",
       "    </tr>\n",
       "    <tr>\n",
       "      <th>4</th>\n",
       "      <td>2019-11-20 00:00:00.000</td>\n",
       "      <td>2019-11-20 00:00:00.000</td>\n",
       "      <td>2019-11-20 01:01:50.003</td>\n",
       "    </tr>\n",
       "  </tbody>\n",
       "</table>\n",
       "</div>"
      ],
      "text/plain": [
       "                   runDate                 dontNeed          captureDuration\n",
       "0                      NaN                      NaN                      NaN\n",
       "1  2019-11-23 00:00:00.000  2019-11-23 00:00:00.000  2019-11-23 02:15:50.600\n",
       "2  2019-11-22 00:00:00.000  2019-11-22 00:00:00.000  2019-11-22 04:20:09.080\n",
       "3  2019-11-21 00:00:00.000  2019-11-21 00:00:00.000  2019-11-21 03:10:50.700\n",
       "4  2019-11-20 00:00:00.000  2019-11-20 00:00:00.000  2019-11-20 01:01:50.003"
      ]
     },
     "execution_count": 100,
     "metadata": {},
     "output_type": "execute_result"
    }
   ],
   "source": [
    "df"
   ]
  },
  {
   "cell_type": "code",
   "execution_count": 101,
   "metadata": {},
   "outputs": [
    {
     "data": {
      "text/plain": [
       "str"
      ]
     },
     "execution_count": 101,
     "metadata": {},
     "output_type": "execute_result"
    }
   ],
   "source": [
    "type(df.runDate.iloc[1])"
   ]
  },
  {
   "cell_type": "code",
   "execution_count": 102,
   "metadata": {},
   "outputs": [],
   "source": [
    "# Hm, it does not seem to help. Ok, let's try to just convert string to datetime using pandas function:"
   ]
  },
  {
   "cell_type": "code",
   "execution_count": 103,
   "metadata": {},
   "outputs": [
    {
     "data": {
      "text/plain": [
       "Timestamp('2019-11-23 02:15:50.600000')"
      ]
     },
     "execution_count": 103,
     "metadata": {},
     "output_type": "execute_result"
    }
   ],
   "source": [
    "pd.to_datetime(df.captureDuration.iloc[1])"
   ]
  },
  {
   "cell_type": "code",
   "execution_count": 104,
   "metadata": {},
   "outputs": [],
   "source": [
    "# Yay, works!"
   ]
  },
  {
   "cell_type": "code",
   "execution_count": 105,
   "metadata": {},
   "outputs": [
    {
     "data": {
      "text/plain": [
       "datetime.date(2019, 11, 23)"
      ]
     },
     "execution_count": 105,
     "metadata": {},
     "output_type": "execute_result"
    }
   ],
   "source": [
    "# Now we can do whatever we want with that timestamp:\n",
    "\n",
    "# Docs are here: https://pandas.pydata.org/pandas-docs/stable/reference/api/pandas.Timestamp.html\n",
    "datetime = pd.to_datetime(df.captureDuration.iloc[1])\n",
    "\n",
    "# To convert it to date:\n",
    "datetime.date()"
   ]
  },
  {
   "cell_type": "code",
   "execution_count": 106,
   "metadata": {},
   "outputs": [
    {
     "data": {
      "text/plain": [
       "datetime.time(2, 15, 50, 600000)"
      ]
     },
     "execution_count": 106,
     "metadata": {},
     "output_type": "execute_result"
    }
   ],
   "source": [
    "# To extract time:\n",
    "datetime.time()"
   ]
  },
  {
   "cell_type": "code",
   "execution_count": 107,
   "metadata": {},
   "outputs": [
    {
     "name": "stdout",
     "output_type": "stream",
     "text": [
      "<class 'pandas.core.frame.DataFrame'>\n",
      "RangeIndex: 5 entries, 0 to 4\n",
      "Data columns (total 3 columns):\n",
      "runDate            4 non-null object\n",
      "dontNeed           4 non-null object\n",
      "captureDuration    4 non-null object\n",
      "dtypes: object(3)\n",
      "memory usage: 200.0+ bytes\n"
     ]
    }
   ],
   "source": [
    "# Ok, let's try to just convert strings to datetime after the loading, for that we can use pd.to_datetime \n",
    "# (again, we can easily find this out by googling 'pandas convert string to date' and following advice from StackOverflow)\n",
    "\n",
    "# Let's first look at the types of all our columns:\n",
    "df.info() # gives an overview of all columns and their types"
   ]
  },
  {
   "cell_type": "code",
   "execution_count": 108,
   "metadata": {},
   "outputs": [],
   "source": [
    "# Now the conversion part, we convert two columns:\n",
    "df.captureDuration = pd.to_datetime(df.captureDuration)\n",
    "df.runDate = pd.to_datetime(df.runDate)"
   ]
  },
  {
   "cell_type": "code",
   "execution_count": 109,
   "metadata": {},
   "outputs": [
    {
     "name": "stdout",
     "output_type": "stream",
     "text": [
      "<class 'pandas.core.frame.DataFrame'>\n",
      "RangeIndex: 5 entries, 0 to 4\n",
      "Data columns (total 3 columns):\n",
      "runDate            4 non-null datetime64[ns]\n",
      "dontNeed           4 non-null object\n",
      "captureDuration    4 non-null datetime64[ns]\n",
      "dtypes: datetime64[ns](2), object(1)\n",
      "memory usage: 200.0+ bytes\n"
     ]
    }
   ],
   "source": [
    "df.info() # gives an overview of all columns and their types\n",
    "# now we can see that runDate is \"datetime64[ns]\", i.e. it has been converted to datetime"
   ]
  },
  {
   "cell_type": "code",
   "execution_count": 110,
   "metadata": {},
   "outputs": [
    {
     "data": {
      "text/plain": [
       "0                NaT\n",
       "1    02:15:50.600000\n",
       "2    04:20:09.080000\n",
       "3    03:10:50.700000\n",
       "4    01:01:50.003000\n",
       "Name: captureDuration, dtype: object"
      ]
     },
     "execution_count": 110,
     "metadata": {},
     "output_type": "execute_result"
    }
   ],
   "source": [
    "# we can use .dt selector to access date time functions (discovered via StackOverflow and pandas documentation):\n",
    "df.captureDuration.dt.time"
   ]
  },
  {
   "cell_type": "code",
   "execution_count": 111,
   "metadata": {},
   "outputs": [
    {
     "data": {
      "text/plain": [
       "0      NaN\n",
       "1    135.0\n",
       "2    260.0\n",
       "3    190.0\n",
       "4     61.0\n",
       "Name: captureDuration, dtype: float64"
      ]
     },
     "execution_count": 111,
     "metadata": {},
     "output_type": "execute_result"
    }
   ],
   "source": [
    "# or we can apply functions to columns:\n",
    "# see here: https://stackoverflow.com/questions/17951820/convert-hhmmss-to-minutes-using-python-pandas\n",
    "df.captureDuration.apply(lambda dur: dur.hour * 60 + dur.minute)"
   ]
  },
  {
   "cell_type": "code",
   "execution_count": 112,
   "metadata": {},
   "outputs": [
    {
     "data": {
      "text/html": [
       "<div>\n",
       "<style scoped>\n",
       "    .dataframe tbody tr th:only-of-type {\n",
       "        vertical-align: middle;\n",
       "    }\n",
       "\n",
       "    .dataframe tbody tr th {\n",
       "        vertical-align: top;\n",
       "    }\n",
       "\n",
       "    .dataframe thead th {\n",
       "        text-align: right;\n",
       "    }\n",
       "</style>\n",
       "<table border=\"1\" class=\"dataframe\">\n",
       "  <thead>\n",
       "    <tr style=\"text-align: right;\">\n",
       "      <th></th>\n",
       "      <th>runDate</th>\n",
       "      <th>captureDuration</th>\n",
       "    </tr>\n",
       "  </thead>\n",
       "  <tbody>\n",
       "    <tr>\n",
       "      <th>1</th>\n",
       "      <td>2019-11-23</td>\n",
       "      <td>135.833333</td>\n",
       "    </tr>\n",
       "    <tr>\n",
       "      <th>2</th>\n",
       "      <td>2019-11-22</td>\n",
       "      <td>260.150000</td>\n",
       "    </tr>\n",
       "    <tr>\n",
       "      <th>3</th>\n",
       "      <td>2019-11-21</td>\n",
       "      <td>190.833333</td>\n",
       "    </tr>\n",
       "    <tr>\n",
       "      <th>4</th>\n",
       "      <td>2019-11-20</td>\n",
       "      <td>61.833333</td>\n",
       "    </tr>\n",
       "  </tbody>\n",
       "</table>\n",
       "</div>"
      ],
      "text/plain": [
       "      runDate  captureDuration\n",
       "1  2019-11-23       135.833333\n",
       "2  2019-11-22       260.150000\n",
       "3  2019-11-21       190.833333\n",
       "4  2019-11-20        61.833333"
      ]
     },
     "execution_count": 112,
     "metadata": {},
     "output_type": "execute_result"
    }
   ],
   "source": [
    "# ok, let's combine everything together:\n",
    "\n",
    "# load\n",
    "df = pd.read_excel(\"/Users/sphynx/Code/Learning_Python/Example.xlsx\")\n",
    "\n",
    "# clean\n",
    "df.dropna(how='all', inplace=True)\n",
    "df.drop('dontNeed', axis=1, inplace=True)\n",
    "\n",
    "# convert strings to dates\n",
    "df.captureDuration = pd.to_datetime(df.captureDuration)\n",
    "df.runDate = pd.to_datetime(df.runDate)\n",
    "\n",
    "df.runDate = df.runDate.dt.date\n",
    "df.captureDuration = df.captureDuration.apply(lambda dur: dur.hour * 60 + dur.minute + dur.second / 60)\n",
    "df"
   ]
  },
  {
   "cell_type": "code",
   "execution_count": 113,
   "metadata": {},
   "outputs": [
    {
     "data": {
      "text/html": [
       "<div>\n",
       "<style scoped>\n",
       "    .dataframe tbody tr th:only-of-type {\n",
       "        vertical-align: middle;\n",
       "    }\n",
       "\n",
       "    .dataframe tbody tr th {\n",
       "        vertical-align: top;\n",
       "    }\n",
       "\n",
       "    .dataframe thead th {\n",
       "        text-align: right;\n",
       "    }\n",
       "</style>\n",
       "<table border=\"1\" class=\"dataframe\">\n",
       "  <thead>\n",
       "    <tr style=\"text-align: right;\">\n",
       "      <th></th>\n",
       "      <th>captureDuration</th>\n",
       "    </tr>\n",
       "    <tr>\n",
       "      <th>runDate</th>\n",
       "      <th></th>\n",
       "    </tr>\n",
       "  </thead>\n",
       "  <tbody>\n",
       "    <tr>\n",
       "      <th>2019-11-23</th>\n",
       "      <td>135.833333</td>\n",
       "    </tr>\n",
       "    <tr>\n",
       "      <th>2019-11-22</th>\n",
       "      <td>260.150000</td>\n",
       "    </tr>\n",
       "    <tr>\n",
       "      <th>2019-11-21</th>\n",
       "      <td>190.833333</td>\n",
       "    </tr>\n",
       "    <tr>\n",
       "      <th>2019-11-20</th>\n",
       "      <td>61.833333</td>\n",
       "    </tr>\n",
       "  </tbody>\n",
       "</table>\n",
       "</div>"
      ],
      "text/plain": [
       "            captureDuration\n",
       "runDate                    \n",
       "2019-11-23       135.833333\n",
       "2019-11-22       260.150000\n",
       "2019-11-21       190.833333\n",
       "2019-11-20        61.833333"
      ]
     },
     "execution_count": 113,
     "metadata": {},
     "output_type": "execute_result"
    }
   ],
   "source": [
    "# Let's make the date our index:\n",
    "df = df.set_index('runDate')\n",
    "df"
   ]
  },
  {
   "cell_type": "code",
   "execution_count": 114,
   "metadata": {},
   "outputs": [
    {
     "data": {
      "image/png": "[encoded data removed]",
      "text/plain": [
       "<Figure size 432x288 with 1 Axes>"
      ]
     },
     "metadata": {
      "needs_background": "light"
     },
     "output_type": "display_data"
    }
   ],
   "source": [
    "# And plot the thing:\n",
    "\n",
    "%matplotlib inline\n",
    "df.plot();"
   ]
  },
  {
   "cell_type": "code",
   "execution_count": 115,
   "metadata": {},
   "outputs": [],
   "source": [
    "# Date labels look bad, we can fix that later by using a custom axis formatter, I believe"
   ]
  }
 ],
 "metadata": {
  "kernelspec": {
   "display_name": "Python 3",
   "language": "python",
   "name": "python3"
  },
  "language_info": {
   "codemirror_mode": {
    "name": "ipython",
    "version": 3
   },
   "file_extension": ".py",
   "mimetype": "text/x-python",
   "name": "python",
   "nbconvert_exporter": "python",
   "pygments_lexer": "ipython3",
   "version": "3.7.4"
  },
  "toc": {
   "nav_menu": {},
   "number_sections": true,
   "sideBar": true,
   "skip_h1_title": false,
   "title_cell": "Table of Contents",
   "title_sidebar": "Contents",
   "toc_cell": false,
   "toc_position": {},
   "toc_section_display": true,
   "toc_window_display": false
  }
 },
 "nbformat": 4,
 "nbformat_minor": 2
}
